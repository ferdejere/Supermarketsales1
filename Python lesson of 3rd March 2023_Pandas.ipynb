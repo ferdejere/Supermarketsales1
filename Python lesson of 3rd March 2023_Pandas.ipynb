{
 "cells": [
  {
   "cell_type": "code",
   "execution_count": 95,
   "id": "e530f688",
   "metadata": {},
   "outputs": [],
   "source": [
    "# importing libraries \n",
    "\n",
    "import numpy as np\n",
    "import pandas as pd\n",
    "import seaborn as sns\n",
    "import matplotlib as plt\n",
    "from sklearn import preprocessing\n",
    "import warnings\n",
    "warnings.filterwarnings(\"ignore\")\n",
    "%matplotlib inline\n",
    "import datetime as dt"
   ]
  },
  {
   "cell_type": "code",
   "execution_count": 96,
   "id": "608148af",
   "metadata": {},
   "outputs": [],
   "source": [
    "data = pd.read_csv('C:\\\\Users\\\\klej2\\\\OneDrive\\\\Desktop\\\\supermarket_sales data.csv', index_col='Date')"
   ]
  },
  {
   "cell_type": "code",
   "execution_count": 97,
   "id": "52db9af9",
   "metadata": {
    "scrolled": true
   },
   "outputs": [
    {
     "data": {
      "text/html": [
       "<div>\n",
       "<style scoped>\n",
       "    .dataframe tbody tr th:only-of-type {\n",
       "        vertical-align: middle;\n",
       "    }\n",
       "\n",
       "    .dataframe tbody tr th {\n",
       "        vertical-align: top;\n",
       "    }\n",
       "\n",
       "    .dataframe thead th {\n",
       "        text-align: right;\n",
       "    }\n",
       "</style>\n",
       "<table border=\"1\" class=\"dataframe\">\n",
       "  <thead>\n",
       "    <tr style=\"text-align: right;\">\n",
       "      <th></th>\n",
       "      <th>Invoice ID</th>\n",
       "      <th>Branch</th>\n",
       "      <th>City</th>\n",
       "      <th>Customer type</th>\n",
       "      <th>Gender</th>\n",
       "      <th>Product line</th>\n",
       "      <th>Unit price</th>\n",
       "      <th>Quantity</th>\n",
       "      <th>Tax 5%</th>\n",
       "      <th>Total</th>\n",
       "      <th>Time</th>\n",
       "      <th>Payment</th>\n",
       "      <th>cogs</th>\n",
       "      <th>gross margin percentage</th>\n",
       "      <th>gross income</th>\n",
       "      <th>Rating</th>\n",
       "    </tr>\n",
       "    <tr>\n",
       "      <th>Date</th>\n",
       "      <th></th>\n",
       "      <th></th>\n",
       "      <th></th>\n",
       "      <th></th>\n",
       "      <th></th>\n",
       "      <th></th>\n",
       "      <th></th>\n",
       "      <th></th>\n",
       "      <th></th>\n",
       "      <th></th>\n",
       "      <th></th>\n",
       "      <th></th>\n",
       "      <th></th>\n",
       "      <th></th>\n",
       "      <th></th>\n",
       "      <th></th>\n",
       "    </tr>\n",
       "  </thead>\n",
       "  <tbody>\n",
       "    <tr>\n",
       "      <th>1/5/2019</th>\n",
       "      <td>750-67-8428</td>\n",
       "      <td>A</td>\n",
       "      <td>Yangon</td>\n",
       "      <td>Member</td>\n",
       "      <td>Female</td>\n",
       "      <td>Health and beauty</td>\n",
       "      <td>74.69</td>\n",
       "      <td>7</td>\n",
       "      <td>26.1415</td>\n",
       "      <td>548.9715</td>\n",
       "      <td>13:08</td>\n",
       "      <td>Ewallet</td>\n",
       "      <td>522.83</td>\n",
       "      <td>4.761905</td>\n",
       "      <td>26.1415</td>\n",
       "      <td>9.1</td>\n",
       "    </tr>\n",
       "    <tr>\n",
       "      <th>3/8/2019</th>\n",
       "      <td>226-31-3081</td>\n",
       "      <td>C</td>\n",
       "      <td>Naypyitaw</td>\n",
       "      <td>Normal</td>\n",
       "      <td>Female</td>\n",
       "      <td>Electronic accessories</td>\n",
       "      <td>15.28</td>\n",
       "      <td>5</td>\n",
       "      <td>3.8200</td>\n",
       "      <td>80.2200</td>\n",
       "      <td>10:29</td>\n",
       "      <td>Cash</td>\n",
       "      <td>76.40</td>\n",
       "      <td>4.761905</td>\n",
       "      <td>3.8200</td>\n",
       "      <td>9.6</td>\n",
       "    </tr>\n",
       "    <tr>\n",
       "      <th>3/3/2019</th>\n",
       "      <td>631-41-3108</td>\n",
       "      <td>A</td>\n",
       "      <td>Yangon</td>\n",
       "      <td>Normal</td>\n",
       "      <td>Male</td>\n",
       "      <td>Home and lifestyle</td>\n",
       "      <td>46.33</td>\n",
       "      <td>7</td>\n",
       "      <td>16.2155</td>\n",
       "      <td>340.5255</td>\n",
       "      <td>13:23</td>\n",
       "      <td>Credit card</td>\n",
       "      <td>324.31</td>\n",
       "      <td>4.761905</td>\n",
       "      <td>16.2155</td>\n",
       "      <td>7.4</td>\n",
       "    </tr>\n",
       "    <tr>\n",
       "      <th>1/27/2019</th>\n",
       "      <td>123-19-1176</td>\n",
       "      <td>A</td>\n",
       "      <td>Yangon</td>\n",
       "      <td>Member</td>\n",
       "      <td>Male</td>\n",
       "      <td>Health and beauty</td>\n",
       "      <td>58.22</td>\n",
       "      <td>8</td>\n",
       "      <td>23.2880</td>\n",
       "      <td>489.0480</td>\n",
       "      <td>20:33</td>\n",
       "      <td>Ewallet</td>\n",
       "      <td>465.76</td>\n",
       "      <td>4.761905</td>\n",
       "      <td>23.2880</td>\n",
       "      <td>8.4</td>\n",
       "    </tr>\n",
       "    <tr>\n",
       "      <th>2/8/2019</th>\n",
       "      <td>373-73-7910</td>\n",
       "      <td>A</td>\n",
       "      <td>Yangon</td>\n",
       "      <td>Normal</td>\n",
       "      <td>Male</td>\n",
       "      <td>Sports and travel</td>\n",
       "      <td>86.31</td>\n",
       "      <td>7</td>\n",
       "      <td>30.2085</td>\n",
       "      <td>634.3785</td>\n",
       "      <td>10:37</td>\n",
       "      <td>Ewallet</td>\n",
       "      <td>604.17</td>\n",
       "      <td>4.761905</td>\n",
       "      <td>30.2085</td>\n",
       "      <td>5.3</td>\n",
       "    </tr>\n",
       "  </tbody>\n",
       "</table>\n",
       "</div>"
      ],
      "text/plain": [
       "            Invoice ID Branch       City Customer type  Gender  \\\n",
       "Date                                                             \n",
       "1/5/2019   750-67-8428      A     Yangon        Member  Female   \n",
       "3/8/2019   226-31-3081      C  Naypyitaw        Normal  Female   \n",
       "3/3/2019   631-41-3108      A     Yangon        Normal    Male   \n",
       "1/27/2019  123-19-1176      A     Yangon        Member    Male   \n",
       "2/8/2019   373-73-7910      A     Yangon        Normal    Male   \n",
       "\n",
       "                     Product line  Unit price  Quantity   Tax 5%     Total  \\\n",
       "Date                                                                         \n",
       "1/5/2019        Health and beauty       74.69         7  26.1415  548.9715   \n",
       "3/8/2019   Electronic accessories       15.28         5   3.8200   80.2200   \n",
       "3/3/2019       Home and lifestyle       46.33         7  16.2155  340.5255   \n",
       "1/27/2019       Health and beauty       58.22         8  23.2880  489.0480   \n",
       "2/8/2019        Sports and travel       86.31         7  30.2085  634.3785   \n",
       "\n",
       "            Time      Payment    cogs  gross margin percentage  gross income  \\\n",
       "Date                                                                           \n",
       "1/5/2019   13:08      Ewallet  522.83                 4.761905       26.1415   \n",
       "3/8/2019   10:29         Cash   76.40                 4.761905        3.8200   \n",
       "3/3/2019   13:23  Credit card  324.31                 4.761905       16.2155   \n",
       "1/27/2019  20:33      Ewallet  465.76                 4.761905       23.2880   \n",
       "2/8/2019   10:37      Ewallet  604.17                 4.761905       30.2085   \n",
       "\n",
       "           Rating  \n",
       "Date               \n",
       "1/5/2019      9.1  \n",
       "3/8/2019      9.6  \n",
       "3/3/2019      7.4  \n",
       "1/27/2019     8.4  \n",
       "2/8/2019      5.3  "
      ]
     },
     "execution_count": 97,
     "metadata": {},
     "output_type": "execute_result"
    }
   ],
   "source": [
    "data.head()"
   ]
  },
  {
   "cell_type": "code",
   "execution_count": 98,
   "id": "e8ad5b6c",
   "metadata": {},
   "outputs": [],
   "source": [
    "data['gross income_doubled']= 2*data['gross income'] "
   ]
  },
  {
   "cell_type": "code",
   "execution_count": 99,
   "id": "35e9db36",
   "metadata": {
    "scrolled": false
   },
   "outputs": [
    {
     "data": {
      "text/html": [
       "<div>\n",
       "<style scoped>\n",
       "    .dataframe tbody tr th:only-of-type {\n",
       "        vertical-align: middle;\n",
       "    }\n",
       "\n",
       "    .dataframe tbody tr th {\n",
       "        vertical-align: top;\n",
       "    }\n",
       "\n",
       "    .dataframe thead th {\n",
       "        text-align: right;\n",
       "    }\n",
       "</style>\n",
       "<table border=\"1\" class=\"dataframe\">\n",
       "  <thead>\n",
       "    <tr style=\"text-align: right;\">\n",
       "      <th></th>\n",
       "      <th>Invoice ID</th>\n",
       "      <th>Branch</th>\n",
       "      <th>City</th>\n",
       "      <th>Customer type</th>\n",
       "      <th>Gender</th>\n",
       "      <th>Product line</th>\n",
       "      <th>Unit price</th>\n",
       "      <th>Quantity</th>\n",
       "      <th>Tax 5%</th>\n",
       "      <th>Total</th>\n",
       "      <th>Time</th>\n",
       "      <th>Payment</th>\n",
       "      <th>cogs</th>\n",
       "      <th>gross margin percentage</th>\n",
       "      <th>gross income</th>\n",
       "      <th>Rating</th>\n",
       "      <th>gross income_doubled</th>\n",
       "    </tr>\n",
       "    <tr>\n",
       "      <th>Date</th>\n",
       "      <th></th>\n",
       "      <th></th>\n",
       "      <th></th>\n",
       "      <th></th>\n",
       "      <th></th>\n",
       "      <th></th>\n",
       "      <th></th>\n",
       "      <th></th>\n",
       "      <th></th>\n",
       "      <th></th>\n",
       "      <th></th>\n",
       "      <th></th>\n",
       "      <th></th>\n",
       "      <th></th>\n",
       "      <th></th>\n",
       "      <th></th>\n",
       "      <th></th>\n",
       "    </tr>\n",
       "  </thead>\n",
       "  <tbody>\n",
       "    <tr>\n",
       "      <th>1/5/2019</th>\n",
       "      <td>750-67-8428</td>\n",
       "      <td>A</td>\n",
       "      <td>Yangon</td>\n",
       "      <td>Member</td>\n",
       "      <td>Female</td>\n",
       "      <td>Health and beauty</td>\n",
       "      <td>74.69</td>\n",
       "      <td>7</td>\n",
       "      <td>26.1415</td>\n",
       "      <td>548.9715</td>\n",
       "      <td>13:08</td>\n",
       "      <td>Ewallet</td>\n",
       "      <td>522.83</td>\n",
       "      <td>4.761905</td>\n",
       "      <td>26.1415</td>\n",
       "      <td>9.1</td>\n",
       "      <td>52.283</td>\n",
       "    </tr>\n",
       "    <tr>\n",
       "      <th>3/8/2019</th>\n",
       "      <td>226-31-3081</td>\n",
       "      <td>C</td>\n",
       "      <td>Naypyitaw</td>\n",
       "      <td>Normal</td>\n",
       "      <td>Female</td>\n",
       "      <td>Electronic accessories</td>\n",
       "      <td>15.28</td>\n",
       "      <td>5</td>\n",
       "      <td>3.8200</td>\n",
       "      <td>80.2200</td>\n",
       "      <td>10:29</td>\n",
       "      <td>Cash</td>\n",
       "      <td>76.40</td>\n",
       "      <td>4.761905</td>\n",
       "      <td>3.8200</td>\n",
       "      <td>9.6</td>\n",
       "      <td>7.640</td>\n",
       "    </tr>\n",
       "    <tr>\n",
       "      <th>3/3/2019</th>\n",
       "      <td>631-41-3108</td>\n",
       "      <td>A</td>\n",
       "      <td>Yangon</td>\n",
       "      <td>Normal</td>\n",
       "      <td>Male</td>\n",
       "      <td>Home and lifestyle</td>\n",
       "      <td>46.33</td>\n",
       "      <td>7</td>\n",
       "      <td>16.2155</td>\n",
       "      <td>340.5255</td>\n",
       "      <td>13:23</td>\n",
       "      <td>Credit card</td>\n",
       "      <td>324.31</td>\n",
       "      <td>4.761905</td>\n",
       "      <td>16.2155</td>\n",
       "      <td>7.4</td>\n",
       "      <td>32.431</td>\n",
       "    </tr>\n",
       "    <tr>\n",
       "      <th>1/27/2019</th>\n",
       "      <td>123-19-1176</td>\n",
       "      <td>A</td>\n",
       "      <td>Yangon</td>\n",
       "      <td>Member</td>\n",
       "      <td>Male</td>\n",
       "      <td>Health and beauty</td>\n",
       "      <td>58.22</td>\n",
       "      <td>8</td>\n",
       "      <td>23.2880</td>\n",
       "      <td>489.0480</td>\n",
       "      <td>20:33</td>\n",
       "      <td>Ewallet</td>\n",
       "      <td>465.76</td>\n",
       "      <td>4.761905</td>\n",
       "      <td>23.2880</td>\n",
       "      <td>8.4</td>\n",
       "      <td>46.576</td>\n",
       "    </tr>\n",
       "    <tr>\n",
       "      <th>2/8/2019</th>\n",
       "      <td>373-73-7910</td>\n",
       "      <td>A</td>\n",
       "      <td>Yangon</td>\n",
       "      <td>Normal</td>\n",
       "      <td>Male</td>\n",
       "      <td>Sports and travel</td>\n",
       "      <td>86.31</td>\n",
       "      <td>7</td>\n",
       "      <td>30.2085</td>\n",
       "      <td>634.3785</td>\n",
       "      <td>10:37</td>\n",
       "      <td>Ewallet</td>\n",
       "      <td>604.17</td>\n",
       "      <td>4.761905</td>\n",
       "      <td>30.2085</td>\n",
       "      <td>5.3</td>\n",
       "      <td>60.417</td>\n",
       "    </tr>\n",
       "  </tbody>\n",
       "</table>\n",
       "</div>"
      ],
      "text/plain": [
       "            Invoice ID Branch       City Customer type  Gender  \\\n",
       "Date                                                             \n",
       "1/5/2019   750-67-8428      A     Yangon        Member  Female   \n",
       "3/8/2019   226-31-3081      C  Naypyitaw        Normal  Female   \n",
       "3/3/2019   631-41-3108      A     Yangon        Normal    Male   \n",
       "1/27/2019  123-19-1176      A     Yangon        Member    Male   \n",
       "2/8/2019   373-73-7910      A     Yangon        Normal    Male   \n",
       "\n",
       "                     Product line  Unit price  Quantity   Tax 5%     Total  \\\n",
       "Date                                                                         \n",
       "1/5/2019        Health and beauty       74.69         7  26.1415  548.9715   \n",
       "3/8/2019   Electronic accessories       15.28         5   3.8200   80.2200   \n",
       "3/3/2019       Home and lifestyle       46.33         7  16.2155  340.5255   \n",
       "1/27/2019       Health and beauty       58.22         8  23.2880  489.0480   \n",
       "2/8/2019        Sports and travel       86.31         7  30.2085  634.3785   \n",
       "\n",
       "            Time      Payment    cogs  gross margin percentage  gross income  \\\n",
       "Date                                                                           \n",
       "1/5/2019   13:08      Ewallet  522.83                 4.761905       26.1415   \n",
       "3/8/2019   10:29         Cash   76.40                 4.761905        3.8200   \n",
       "3/3/2019   13:23  Credit card  324.31                 4.761905       16.2155   \n",
       "1/27/2019  20:33      Ewallet  465.76                 4.761905       23.2880   \n",
       "2/8/2019   10:37      Ewallet  604.17                 4.761905       30.2085   \n",
       "\n",
       "           Rating  gross income_doubled  \n",
       "Date                                     \n",
       "1/5/2019      9.1                52.283  \n",
       "3/8/2019      9.6                 7.640  \n",
       "3/3/2019      7.4                32.431  \n",
       "1/27/2019     8.4                46.576  \n",
       "2/8/2019      5.3                60.417  "
      ]
     },
     "execution_count": 99,
     "metadata": {},
     "output_type": "execute_result"
    }
   ],
   "source": [
    "data.head()"
   ]
  },
  {
   "cell_type": "code",
   "execution_count": 100,
   "id": "114dda25",
   "metadata": {},
   "outputs": [
    {
     "data": {
      "text/plain": [
       "(1000, 17)"
      ]
     },
     "execution_count": 100,
     "metadata": {},
     "output_type": "execute_result"
    }
   ],
   "source": [
    "# to find out the size of your data,type variable.shape e.g data.shape so from the example we have 1000 rows and 17 columns\n",
    "\n",
    "data.shape"
   ]
  },
  {
   "cell_type": "code",
   "execution_count": 101,
   "id": "886ead26",
   "metadata": {},
   "outputs": [
    {
     "data": {
      "text/html": [
       "<div>\n",
       "<style scoped>\n",
       "    .dataframe tbody tr th:only-of-type {\n",
       "        vertical-align: middle;\n",
       "    }\n",
       "\n",
       "    .dataframe tbody tr th {\n",
       "        vertical-align: top;\n",
       "    }\n",
       "\n",
       "    .dataframe thead th {\n",
       "        text-align: right;\n",
       "    }\n",
       "</style>\n",
       "<table border=\"1\" class=\"dataframe\">\n",
       "  <thead>\n",
       "    <tr style=\"text-align: right;\">\n",
       "      <th></th>\n",
       "      <th>Invoice ID</th>\n",
       "      <th>Branch</th>\n",
       "      <th>City</th>\n",
       "      <th>Customer type</th>\n",
       "      <th>Gender</th>\n",
       "      <th>Product line</th>\n",
       "      <th>Unit price</th>\n",
       "      <th>Quantity</th>\n",
       "      <th>Tax 5%</th>\n",
       "      <th>Total</th>\n",
       "      <th>Time</th>\n",
       "      <th>Payment</th>\n",
       "      <th>cogs</th>\n",
       "      <th>gross margin percentage</th>\n",
       "      <th>gross income</th>\n",
       "      <th>Rating</th>\n",
       "      <th>gross income_doubled</th>\n",
       "    </tr>\n",
       "    <tr>\n",
       "      <th>Date</th>\n",
       "      <th></th>\n",
       "      <th></th>\n",
       "      <th></th>\n",
       "      <th></th>\n",
       "      <th></th>\n",
       "      <th></th>\n",
       "      <th></th>\n",
       "      <th></th>\n",
       "      <th></th>\n",
       "      <th></th>\n",
       "      <th></th>\n",
       "      <th></th>\n",
       "      <th></th>\n",
       "      <th></th>\n",
       "      <th></th>\n",
       "      <th></th>\n",
       "      <th></th>\n",
       "    </tr>\n",
       "  </thead>\n",
       "  <tbody>\n",
       "    <tr>\n",
       "      <th>1/5/2019</th>\n",
       "      <td>750-67-8428</td>\n",
       "      <td>A</td>\n",
       "      <td>Yangon</td>\n",
       "      <td>Member</td>\n",
       "      <td>Female</td>\n",
       "      <td>Health and beauty</td>\n",
       "      <td>74.69</td>\n",
       "      <td>7</td>\n",
       "      <td>26.1415</td>\n",
       "      <td>548.9715</td>\n",
       "      <td>13:08</td>\n",
       "      <td>Ewallet</td>\n",
       "      <td>522.83</td>\n",
       "      <td>4.761905</td>\n",
       "      <td>26.1415</td>\n",
       "      <td>9.1</td>\n",
       "      <td>683.378022</td>\n",
       "    </tr>\n",
       "    <tr>\n",
       "      <th>3/8/2019</th>\n",
       "      <td>226-31-3081</td>\n",
       "      <td>C</td>\n",
       "      <td>Naypyitaw</td>\n",
       "      <td>Normal</td>\n",
       "      <td>Female</td>\n",
       "      <td>Electronic accessories</td>\n",
       "      <td>15.28</td>\n",
       "      <td>5</td>\n",
       "      <td>3.8200</td>\n",
       "      <td>80.2200</td>\n",
       "      <td>10:29</td>\n",
       "      <td>Cash</td>\n",
       "      <td>76.40</td>\n",
       "      <td>4.761905</td>\n",
       "      <td>3.8200</td>\n",
       "      <td>9.6</td>\n",
       "      <td>14.592400</td>\n",
       "    </tr>\n",
       "    <tr>\n",
       "      <th>3/3/2019</th>\n",
       "      <td>631-41-3108</td>\n",
       "      <td>A</td>\n",
       "      <td>Yangon</td>\n",
       "      <td>Normal</td>\n",
       "      <td>Male</td>\n",
       "      <td>Home and lifestyle</td>\n",
       "      <td>46.33</td>\n",
       "      <td>7</td>\n",
       "      <td>16.2155</td>\n",
       "      <td>340.5255</td>\n",
       "      <td>13:23</td>\n",
       "      <td>Credit card</td>\n",
       "      <td>324.31</td>\n",
       "      <td>4.761905</td>\n",
       "      <td>16.2155</td>\n",
       "      <td>7.4</td>\n",
       "      <td>262.942440</td>\n",
       "    </tr>\n",
       "    <tr>\n",
       "      <th>1/27/2019</th>\n",
       "      <td>123-19-1176</td>\n",
       "      <td>A</td>\n",
       "      <td>Yangon</td>\n",
       "      <td>Member</td>\n",
       "      <td>Male</td>\n",
       "      <td>Health and beauty</td>\n",
       "      <td>58.22</td>\n",
       "      <td>8</td>\n",
       "      <td>23.2880</td>\n",
       "      <td>489.0480</td>\n",
       "      <td>20:33</td>\n",
       "      <td>Ewallet</td>\n",
       "      <td>465.76</td>\n",
       "      <td>4.761905</td>\n",
       "      <td>23.2880</td>\n",
       "      <td>8.4</td>\n",
       "      <td>542.330944</td>\n",
       "    </tr>\n",
       "    <tr>\n",
       "      <th>2/8/2019</th>\n",
       "      <td>373-73-7910</td>\n",
       "      <td>A</td>\n",
       "      <td>Yangon</td>\n",
       "      <td>Normal</td>\n",
       "      <td>Male</td>\n",
       "      <td>Sports and travel</td>\n",
       "      <td>86.31</td>\n",
       "      <td>7</td>\n",
       "      <td>30.2085</td>\n",
       "      <td>634.3785</td>\n",
       "      <td>10:37</td>\n",
       "      <td>Ewallet</td>\n",
       "      <td>604.17</td>\n",
       "      <td>4.761905</td>\n",
       "      <td>30.2085</td>\n",
       "      <td>5.3</td>\n",
       "      <td>912.553472</td>\n",
       "    </tr>\n",
       "  </tbody>\n",
       "</table>\n",
       "</div>"
      ],
      "text/plain": [
       "            Invoice ID Branch       City Customer type  Gender  \\\n",
       "Date                                                             \n",
       "1/5/2019   750-67-8428      A     Yangon        Member  Female   \n",
       "3/8/2019   226-31-3081      C  Naypyitaw        Normal  Female   \n",
       "3/3/2019   631-41-3108      A     Yangon        Normal    Male   \n",
       "1/27/2019  123-19-1176      A     Yangon        Member    Male   \n",
       "2/8/2019   373-73-7910      A     Yangon        Normal    Male   \n",
       "\n",
       "                     Product line  Unit price  Quantity   Tax 5%     Total  \\\n",
       "Date                                                                         \n",
       "1/5/2019        Health and beauty       74.69         7  26.1415  548.9715   \n",
       "3/8/2019   Electronic accessories       15.28         5   3.8200   80.2200   \n",
       "3/3/2019       Home and lifestyle       46.33         7  16.2155  340.5255   \n",
       "1/27/2019       Health and beauty       58.22         8  23.2880  489.0480   \n",
       "2/8/2019        Sports and travel       86.31         7  30.2085  634.3785   \n",
       "\n",
       "            Time      Payment    cogs  gross margin percentage  gross income  \\\n",
       "Date                                                                           \n",
       "1/5/2019   13:08      Ewallet  522.83                 4.761905       26.1415   \n",
       "3/8/2019   10:29         Cash   76.40                 4.761905        3.8200   \n",
       "3/3/2019   13:23  Credit card  324.31                 4.761905       16.2155   \n",
       "1/27/2019  20:33      Ewallet  465.76                 4.761905       23.2880   \n",
       "2/8/2019   10:37      Ewallet  604.17                 4.761905       30.2085   \n",
       "\n",
       "           Rating  gross income_doubled  \n",
       "Date                                     \n",
       "1/5/2019      9.1            683.378022  \n",
       "3/8/2019      9.6             14.592400  \n",
       "3/3/2019      7.4            262.942440  \n",
       "1/27/2019     8.4            542.330944  \n",
       "2/8/2019      5.3            912.553472  "
      ]
     },
     "execution_count": 101,
     "metadata": {},
     "output_type": "execute_result"
    }
   ],
   "source": [
    "data['gross income_doubled']= data['gross income']**2\n",
    "data.head()"
   ]
  },
  {
   "cell_type": "code",
   "execution_count": 102,
   "id": "6d54e624",
   "metadata": {
    "scrolled": true
   },
   "outputs": [
    {
     "data": {
      "text/plain": [
       "A    340\n",
       "B    332\n",
       "C    328\n",
       "Name: Branch, dtype: int64"
      ]
     },
     "execution_count": 102,
     "metadata": {},
     "output_type": "execute_result"
    },
    {
     "data": {
      "image/png": "[encoded data removed]",
      "text/plain": [
       "<Figure size 640x480 with 1 Axes>"
      ]
     },
     "metadata": {},
     "output_type": "display_data"
    }
   ],
   "source": [
    "#  Is there any difference in aggregate sales across branches?\n",
    "\n",
    "sns.countplot(data['Branch'])\n",
    "data['Branch'].value_counts()"
   ]
  },
  {
   "cell_type": "code",
   "execution_count": 103,
   "id": "3cd1376a",
   "metadata": {},
   "outputs": [],
   "source": [
    "# From the avove chart, it shows that the aggregate sales across the 3 branches are not hugely different. \n",
    "# While Branch A recorded an aggregate sale of 340 units, Branch B recorded 332 a difference of only 8 units. \n",
    "# Also Branch C recorded sales of 328 units. \n",
    "# One can go on to say that for the 3 branches operating across different locations to record very close sales figures could\n",
    "# indicate the nature of products sold and the type of customers."
   ]
  },
  {
   "cell_type": "code",
   "execution_count": 104,
   "id": "a2e56f3b",
   "metadata": {
    "scrolled": true
   },
   "outputs": [
    {
     "data": {
      "text/plain": [
       "Ewallet        345\n",
       "Cash           344\n",
       "Credit card    311\n",
       "Name: Payment, dtype: int64"
      ]
     },
     "execution_count": 104,
     "metadata": {},
     "output_type": "execute_result"
    },
    {
     "data": {
      "image/png": "[encoded data removed]",
      "text/plain": [
       "<Figure size 640x480 with 1 Axes>"
      ]
     },
     "metadata": {},
     "output_type": "display_data"
    }
   ],
   "source": [
    "sns.countplot(data['Payment'])\n",
    "data['Payment'].value_counts()\n",
    "\n",
    "#sns.countplot is used to plot a chart/graph of data                                                                                                            "
   ]
  },
  {
   "cell_type": "code",
   "execution_count": 105,
   "id": "2221755e",
   "metadata": {},
   "outputs": [],
   "source": [
    "# The above chart analyses the different payment methods used by customers in the supermarket data.\n",
    "# While the Ewallet method was most preferred at 345 times, Cash was also widely used and preferred by a high percentage of \n",
    "# customers at 344 times. However the Credit card payment method was the keast "
   ]
  },
  {
   "cell_type": "code",
   "execution_count": 106,
   "id": "0ee4f8e8",
   "metadata": {},
   "outputs": [
    {
     "data": {
      "text/plain": [
       "Female    501\n",
       "Male      499\n",
       "Name: Gender, dtype: int64"
      ]
     },
     "execution_count": 106,
     "metadata": {},
     "output_type": "execute_result"
    },
    {
     "data": {
      "image/png": "[encoded data removed]",
      "text/plain": [
       "<Figure size 640x480 with 1 Axes>"
      ]
     },
     "metadata": {},
     "output_type": "display_data"
    }
   ],
   "source": [
    "sns.countplot(data['Gender'])\n",
    "data['Gender'].value_counts()"
   ]
  },
  {
   "cell_type": "code",
   "execution_count": 107,
   "id": "0be7e4be",
   "metadata": {},
   "outputs": [
    {
     "data": {
      "text/plain": [
       "Index(['Invoice ID', 'Branch', 'City', 'Customer type', 'Gender',\n",
       "       'Product line', 'Unit price', 'Quantity', 'Tax 5%', 'Total', 'Time',\n",
       "       'Payment', 'cogs', 'gross margin percentage', 'gross income', 'Rating',\n",
       "       'gross income_doubled'],\n",
       "      dtype='object')"
      ]
     },
     "execution_count": 107,
     "metadata": {},
     "output_type": "execute_result"
    }
   ],
   "source": [
    "# to check the columns in your data, variable.columns e.g data.columns\n",
    "\n",
    "data.columns"
   ]
  },
  {
   "cell_type": "code",
   "execution_count": 108,
   "id": "054cc028",
   "metadata": {},
   "outputs": [
    {
     "ename": "SyntaxError",
     "evalue": "invalid syntax (1398253885.py, line 2)",
     "output_type": "error",
     "traceback": [
      "\u001b[1;36m  File \u001b[1;32m\"C:\\Users\\klej2\\AppData\\Local\\Temp\\ipykernel_8612\\1398253885.py\"\u001b[1;36m, line \u001b[1;32m2\u001b[0m\n\u001b[1;33m    type variable['Branch'].unique() and run the code. so from our data, we have 3 branches A,B,C\u001b[0m\n\u001b[1;37m         ^\u001b[0m\n\u001b[1;31mSyntaxError\u001b[0m\u001b[1;31m:\u001b[0m invalid syntax\n"
     ]
    }
   ],
   "source": [
    "# to determine the no of unique items under a column head e.g the of branches in our dataset, \n",
    "type variable['Branch'].unique() and run the code. so from our data, we have 3 branches A,B,C\n",
    "\n",
    "data['Branch'].unique()"
   ]
  },
  {
   "cell_type": "code",
   "execution_count": 109,
   "id": "dc1deb77",
   "metadata": {},
   "outputs": [
    {
     "data": {
      "text/plain": [
       "3"
      ]
     },
     "execution_count": 109,
     "metadata": {},
     "output_type": "execute_result"
    }
   ],
   "source": [
    "data['City'].nunique()"
   ]
  },
  {
   "cell_type": "code",
   "execution_count": 110,
   "id": "8995dd7e",
   "metadata": {},
   "outputs": [
    {
     "data": {
      "text/plain": [
       "2"
      ]
     },
     "execution_count": 110,
     "metadata": {},
     "output_type": "execute_result"
    }
   ],
   "source": [
    "data['Customer type'].nunique()"
   ]
  },
  {
   "cell_type": "code",
   "execution_count": 111,
   "id": "d9e0a1d4",
   "metadata": {},
   "outputs": [
    {
     "data": {
      "text/plain": [
       "array(['Member', 'Normal'], dtype=object)"
      ]
     },
     "execution_count": 111,
     "metadata": {},
     "output_type": "execute_result"
    }
   ],
   "source": [
    "data['Customer type'].unique()"
   ]
  },
  {
   "cell_type": "code",
   "execution_count": 112,
   "id": "9c6b48b0",
   "metadata": {},
   "outputs": [
    {
     "data": {
      "text/plain": [
       "6"
      ]
     },
     "execution_count": 112,
     "metadata": {},
     "output_type": "execute_result"
    }
   ],
   "source": [
    "data['Product line'].nunique()"
   ]
  },
  {
   "cell_type": "code",
   "execution_count": 113,
   "id": "3e05d917",
   "metadata": {},
   "outputs": [
    {
     "data": {
      "text/plain": [
       "array(['Health and beauty', 'Electronic accessories',\n",
       "       'Home and lifestyle', 'Sports and travel', 'Food and beverages',\n",
       "       'Fashion accessories'], dtype=object)"
      ]
     },
     "execution_count": 113,
     "metadata": {},
     "output_type": "execute_result"
    }
   ],
   "source": [
    "data['Product line'].unique()"
   ]
  },
  {
   "cell_type": "code",
   "execution_count": 114,
   "id": "71c9f045",
   "metadata": {
    "scrolled": true
   },
   "outputs": [
    {
     "name": "stdout",
     "output_type": "stream",
     "text": [
      "<class 'pandas.core.frame.DataFrame'>\n",
      "Index: 1000 entries, 1/5/2019 to 2/18/2019\n",
      "Data columns (total 17 columns):\n",
      " #   Column                   Non-Null Count  Dtype  \n",
      "---  ------                   --------------  -----  \n",
      " 0   Invoice ID               1000 non-null   object \n",
      " 1   Branch                   1000 non-null   object \n",
      " 2   City                     1000 non-null   object \n",
      " 3   Customer type            1000 non-null   object \n",
      " 4   Gender                   1000 non-null   object \n",
      " 5   Product line             1000 non-null   object \n",
      " 6   Unit price               1000 non-null   float64\n",
      " 7   Quantity                 1000 non-null   int64  \n",
      " 8   Tax 5%                   1000 non-null   float64\n",
      " 9   Total                    1000 non-null   float64\n",
      " 10  Time                     1000 non-null   object \n",
      " 11  Payment                  1000 non-null   object \n",
      " 12  cogs                     1000 non-null   float64\n",
      " 13  gross margin percentage  1000 non-null   float64\n",
      " 14  gross income             1000 non-null   float64\n",
      " 15  Rating                   1000 non-null   float64\n",
      " 16  gross income_doubled     1000 non-null   float64\n",
      "dtypes: float64(8), int64(1), object(8)\n",
      "memory usage: 172.9+ KB\n"
     ]
    }
   ],
   "source": [
    "data.info()"
   ]
  },
  {
   "cell_type": "code",
   "execution_count": 115,
   "id": "52670e90",
   "metadata": {},
   "outputs": [
    {
     "data": {
      "text/plain": [
       "Invoice ID                 0\n",
       "Branch                     0\n",
       "City                       0\n",
       "Customer type              0\n",
       "Gender                     0\n",
       "Product line               0\n",
       "Unit price                 0\n",
       "Quantity                   0\n",
       "Tax 5%                     0\n",
       "Total                      0\n",
       "Time                       0\n",
       "Payment                    0\n",
       "cogs                       0\n",
       "gross margin percentage    0\n",
       "gross income               0\n",
       "Rating                     0\n",
       "gross income_doubled       0\n",
       "dtype: int64"
      ]
     },
     "execution_count": 115,
     "metadata": {},
     "output_type": "execute_result"
    }
   ],
   "source": [
    "data.isnull().sum()\n",
    "\n",
    "# this helps to check or confirm if there is a missing value in the data under review"
   ]
  },
  {
   "cell_type": "code",
   "execution_count": 116,
   "id": "5c66555e",
   "metadata": {},
   "outputs": [
    {
     "ename": "SyntaxError",
     "evalue": "invalid syntax (4096478009.py, line 4)",
     "output_type": "error",
     "traceback": [
      "\u001b[1;36m  File \u001b[1;32m\"C:\\Users\\klej2\\AppData\\Local\\Temp\\ipykernel_8612\\4096478009.py\"\u001b[1;36m, line \u001b[1;32m4\u001b[0m\n\u001b[1;33m    if there is a yes response, then there is a missing value and if all responses are false then there is no missing value.\u001b[0m\n\u001b[1;37m                  ^\u001b[0m\n\u001b[1;31mSyntaxError\u001b[0m\u001b[1;31m:\u001b[0m invalid syntax\n"
     ]
    }
   ],
   "source": [
    "data.isnull()\n",
    "\n",
    "# this command helps to confirm using boolean to know if there is a missing value. \n",
    "if there is a yes response, then there is a missing value and if all responses are false then there is no missing value."
   ]
  },
  {
   "cell_type": "code",
   "execution_count": 117,
   "id": "200f8974",
   "metadata": {},
   "outputs": [
    {
     "data": {
      "text/plain": [
       "3"
      ]
     },
     "execution_count": 117,
     "metadata": {},
     "output_type": "execute_result"
    }
   ],
   "source": [
    "data['Payment'].nunique()"
   ]
  },
  {
   "cell_type": "code",
   "execution_count": 118,
   "id": "286824f0",
   "metadata": {},
   "outputs": [
    {
     "data": {
      "text/plain": [
       "array(['Ewallet', 'Cash', 'Credit card'], dtype=object)"
      ]
     },
     "execution_count": 118,
     "metadata": {},
     "output_type": "execute_result"
    }
   ],
   "source": [
    "data['Payment'].unique()"
   ]
  },
  {
   "cell_type": "code",
   "execution_count": 119,
   "id": "35bdd7a6",
   "metadata": {},
   "outputs": [
    {
     "data": {
      "text/plain": [
       "49.65"
      ]
     },
     "execution_count": 119,
     "metadata": {},
     "output_type": "execute_result"
    }
   ],
   "source": [
    "data['gross income'].max()"
   ]
  },
  {
   "cell_type": "code",
   "execution_count": 120,
   "id": "b3ba1064",
   "metadata": {},
   "outputs": [
    {
     "data": {
      "text/plain": [
       "0.5085"
      ]
     },
     "execution_count": 120,
     "metadata": {},
     "output_type": "execute_result"
    }
   ],
   "source": [
    "data['gross income'].min()"
   ]
  },
  {
   "cell_type": "code",
   "execution_count": 121,
   "id": "2f4cc924",
   "metadata": {},
   "outputs": [
    {
     "data": {
      "text/plain": [
       "15379.368999999999"
      ]
     },
     "execution_count": 121,
     "metadata": {},
     "output_type": "execute_result"
    }
   ],
   "source": [
    "data['gross income'].sum()"
   ]
  },
  {
   "cell_type": "code",
   "execution_count": 122,
   "id": "e5763388",
   "metadata": {},
   "outputs": [
    {
     "data": {
      "text/plain": [
       "<AxesSubplot:xlabel='Gender', ylabel='gross income'>"
      ]
     },
     "execution_count": 122,
     "metadata": {},
     "output_type": "execute_result"
    },
    {
     "data": {
      "image/png": "[encoded data removed]",
      "text/plain": [
       "<Figure size 640x480 with 1 Axes>"
      ]
     },
     "metadata": {},
     "output_type": "display_data"
    }
   ],
   "source": [
    "sns.scatterplot(data['Gender'], data['gross income'])"
   ]
  },
  {
   "cell_type": "code",
   "execution_count": 123,
   "id": "44c76191",
   "metadata": {},
   "outputs": [
    {
     "data": {
      "text/plain": [
       "<AxesSubplot:xlabel='Branch', ylabel='gross income'>"
      ]
     },
     "execution_count": 123,
     "metadata": {},
     "output_type": "execute_result"
    },
    {
     "data": {
      "image/png": "[encoded data removed]",
      "text/plain": [
       "<Figure size 640x480 with 1 Axes>"
      ]
     },
     "metadata": {},
     "output_type": "display_data"
    }
   ],
   "source": [
    "sns.boxplot(x=data['Branch'], y=data['gross income'])"
   ]
  },
  {
   "cell_type": "code",
   "execution_count": 124,
   "id": "edcccc07",
   "metadata": {
    "scrolled": true
   },
   "outputs": [
    {
     "data": {
      "text/plain": [
       "<AxesSubplot:xlabel='gross income', ylabel='count'>"
      ]
     },
     "execution_count": 124,
     "metadata": {},
     "output_type": "execute_result"
    },
    {
     "data": {
      "image/png": "[encoded data removed]",
      "text/plain": [
       "<Figure size 640x480 with 1 Axes>"
      ]
     },
     "metadata": {},
     "output_type": "display_data"
    }
   ],
   "source": [
    "sns.countplot(data['gross income'])"
   ]
  },
  {
   "cell_type": "code",
   "execution_count": 125,
   "id": "7e819e1a",
   "metadata": {},
   "outputs": [
    {
     "ename": "AttributeError",
     "evalue": "module 'matplotlib' has no attribute 'plot'",
     "output_type": "error",
     "traceback": [
      "\u001b[1;31m---------------------------------------------------------------------------\u001b[0m",
      "\u001b[1;31mAttributeError\u001b[0m                            Traceback (most recent call last)",
      "\u001b[1;32m~\\AppData\\Local\\Temp\\ipykernel_8612\\3984466115.py\u001b[0m in \u001b[0;36m<module>\u001b[1;34m\u001b[0m\n\u001b[1;32m----> 1\u001b[1;33m \u001b[0mplt\u001b[0m\u001b[1;33m.\u001b[0m\u001b[0mplot\u001b[0m\u001b[1;33m\u001b[0m\u001b[1;33m\u001b[0m\u001b[0m\n\u001b[0m",
      "\u001b[1;32m~\\anaconda3\\lib\\site-packages\\matplotlib\\_api\\__init__.py\u001b[0m in \u001b[0;36m__getattr__\u001b[1;34m(name)\u001b[0m\n\u001b[0;32m    220\u001b[0m         \u001b[1;32mif\u001b[0m \u001b[0mname\u001b[0m \u001b[1;32min\u001b[0m \u001b[0mprops\u001b[0m\u001b[1;33m:\u001b[0m\u001b[1;33m\u001b[0m\u001b[1;33m\u001b[0m\u001b[0m\n\u001b[0;32m    221\u001b[0m             \u001b[1;32mreturn\u001b[0m \u001b[0mprops\u001b[0m\u001b[1;33m[\u001b[0m\u001b[0mname\u001b[0m\u001b[1;33m]\u001b[0m\u001b[1;33m.\u001b[0m\u001b[0m__get__\u001b[0m\u001b[1;33m(\u001b[0m\u001b[0minstance\u001b[0m\u001b[1;33m)\u001b[0m\u001b[1;33m\u001b[0m\u001b[1;33m\u001b[0m\u001b[0m\n\u001b[1;32m--> 222\u001b[1;33m         raise AttributeError(\n\u001b[0m\u001b[0;32m    223\u001b[0m             f\"module {cls.__module__!r} has no attribute {name!r}\")\n\u001b[0;32m    224\u001b[0m \u001b[1;33m\u001b[0m\u001b[0m\n",
      "\u001b[1;31mAttributeError\u001b[0m: module 'matplotlib' has no attribute 'plot'"
     ]
    }
   ],
   "source": [
    "plt.plot"
   ]
  },
  {
   "cell_type": "code",
   "execution_count": null,
   "id": "fd37b84c",
   "metadata": {},
   "outputs": [],
   "source": [
    "plt.plot(data['gross income'])"
   ]
  },
  {
   "cell_type": "code",
   "execution_count": null,
   "id": "0886b684",
   "metadata": {},
   "outputs": [],
   "source": [
    "sns.lineplot("
   ]
  },
  {
   "cell_type": "code",
   "execution_count": null,
   "id": "0a2bb413",
   "metadata": {},
   "outputs": [],
   "source": [
    "getcwd()"
   ]
  },
  {
   "cell_type": "code",
   "execution_count": null,
   "id": "17b0ef71",
   "metadata": {},
   "outputs": [],
   "source": [
    "sns.boxplot(x=data['Index'], y=data['Quantity'])"
   ]
  },
  {
   "cell_type": "code",
   "execution_count": null,
   "id": "b9d1d9a0",
   "metadata": {},
   "outputs": [],
   "source": [
    "data = pd.read_csv('C:\\Users\\klej2\\OneDrive\\Desktop\\supermarket_sales data.csv')\n"
   ]
  },
  {
   "cell_type": "code",
   "execution_count": 127,
   "id": "6e54bec2",
   "metadata": {},
   "outputs": [
    {
     "data": {
      "text/html": [
       "<div>\n",
       "<style scoped>\n",
       "    .dataframe tbody tr th:only-of-type {\n",
       "        vertical-align: middle;\n",
       "    }\n",
       "\n",
       "    .dataframe tbody tr th {\n",
       "        vertical-align: top;\n",
       "    }\n",
       "\n",
       "    .dataframe thead th {\n",
       "        text-align: right;\n",
       "    }\n",
       "</style>\n",
       "<table border=\"1\" class=\"dataframe\">\n",
       "  <thead>\n",
       "    <tr style=\"text-align: right;\">\n",
       "      <th></th>\n",
       "      <th>Invoice ID</th>\n",
       "      <th>Branch</th>\n",
       "      <th>City</th>\n",
       "      <th>Customer type</th>\n",
       "      <th>Gender</th>\n",
       "      <th>Product line</th>\n",
       "      <th>Unit price</th>\n",
       "      <th>Quantity</th>\n",
       "      <th>Tax 5%</th>\n",
       "      <th>Total</th>\n",
       "      <th>Time</th>\n",
       "      <th>Payment</th>\n",
       "      <th>cogs</th>\n",
       "      <th>gross margin percentage</th>\n",
       "      <th>gross income</th>\n",
       "      <th>Rating</th>\n",
       "      <th>gross income_doubled</th>\n",
       "    </tr>\n",
       "    <tr>\n",
       "      <th>Date</th>\n",
       "      <th></th>\n",
       "      <th></th>\n",
       "      <th></th>\n",
       "      <th></th>\n",
       "      <th></th>\n",
       "      <th></th>\n",
       "      <th></th>\n",
       "      <th></th>\n",
       "      <th></th>\n",
       "      <th></th>\n",
       "      <th></th>\n",
       "      <th></th>\n",
       "      <th></th>\n",
       "      <th></th>\n",
       "      <th></th>\n",
       "      <th></th>\n",
       "      <th></th>\n",
       "    </tr>\n",
       "  </thead>\n",
       "  <tbody>\n",
       "    <tr>\n",
       "      <th>1/5/2019</th>\n",
       "      <td>750-67-8428</td>\n",
       "      <td>A</td>\n",
       "      <td>Yangon</td>\n",
       "      <td>Member</td>\n",
       "      <td>Female</td>\n",
       "      <td>Health and beauty</td>\n",
       "      <td>74.69</td>\n",
       "      <td>7</td>\n",
       "      <td>26.1415</td>\n",
       "      <td>548.9715</td>\n",
       "      <td>13:08</td>\n",
       "      <td>Ewallet</td>\n",
       "      <td>522.83</td>\n",
       "      <td>4.761905</td>\n",
       "      <td>26.1415</td>\n",
       "      <td>9.1</td>\n",
       "      <td>683.378022</td>\n",
       "    </tr>\n",
       "    <tr>\n",
       "      <th>3/8/2019</th>\n",
       "      <td>226-31-3081</td>\n",
       "      <td>C</td>\n",
       "      <td>Naypyitaw</td>\n",
       "      <td>Normal</td>\n",
       "      <td>Female</td>\n",
       "      <td>Electronic accessories</td>\n",
       "      <td>15.28</td>\n",
       "      <td>5</td>\n",
       "      <td>3.8200</td>\n",
       "      <td>80.2200</td>\n",
       "      <td>10:29</td>\n",
       "      <td>Cash</td>\n",
       "      <td>76.40</td>\n",
       "      <td>4.761905</td>\n",
       "      <td>3.8200</td>\n",
       "      <td>9.6</td>\n",
       "      <td>14.592400</td>\n",
       "    </tr>\n",
       "    <tr>\n",
       "      <th>3/3/2019</th>\n",
       "      <td>631-41-3108</td>\n",
       "      <td>A</td>\n",
       "      <td>Yangon</td>\n",
       "      <td>Normal</td>\n",
       "      <td>Male</td>\n",
       "      <td>Home and lifestyle</td>\n",
       "      <td>46.33</td>\n",
       "      <td>7</td>\n",
       "      <td>16.2155</td>\n",
       "      <td>340.5255</td>\n",
       "      <td>13:23</td>\n",
       "      <td>Credit card</td>\n",
       "      <td>324.31</td>\n",
       "      <td>4.761905</td>\n",
       "      <td>16.2155</td>\n",
       "      <td>7.4</td>\n",
       "      <td>262.942440</td>\n",
       "    </tr>\n",
       "    <tr>\n",
       "      <th>1/27/2019</th>\n",
       "      <td>123-19-1176</td>\n",
       "      <td>A</td>\n",
       "      <td>Yangon</td>\n",
       "      <td>Member</td>\n",
       "      <td>Male</td>\n",
       "      <td>Health and beauty</td>\n",
       "      <td>58.22</td>\n",
       "      <td>8</td>\n",
       "      <td>23.2880</td>\n",
       "      <td>489.0480</td>\n",
       "      <td>20:33</td>\n",
       "      <td>Ewallet</td>\n",
       "      <td>465.76</td>\n",
       "      <td>4.761905</td>\n",
       "      <td>23.2880</td>\n",
       "      <td>8.4</td>\n",
       "      <td>542.330944</td>\n",
       "    </tr>\n",
       "    <tr>\n",
       "      <th>2/8/2019</th>\n",
       "      <td>373-73-7910</td>\n",
       "      <td>A</td>\n",
       "      <td>Yangon</td>\n",
       "      <td>Normal</td>\n",
       "      <td>Male</td>\n",
       "      <td>Sports and travel</td>\n",
       "      <td>86.31</td>\n",
       "      <td>7</td>\n",
       "      <td>30.2085</td>\n",
       "      <td>634.3785</td>\n",
       "      <td>10:37</td>\n",
       "      <td>Ewallet</td>\n",
       "      <td>604.17</td>\n",
       "      <td>4.761905</td>\n",
       "      <td>30.2085</td>\n",
       "      <td>5.3</td>\n",
       "      <td>912.553472</td>\n",
       "    </tr>\n",
       "    <tr>\n",
       "      <th>3/25/2019</th>\n",
       "      <td>699-14-3026</td>\n",
       "      <td>C</td>\n",
       "      <td>Naypyitaw</td>\n",
       "      <td>Normal</td>\n",
       "      <td>Male</td>\n",
       "      <td>Electronic accessories</td>\n",
       "      <td>85.39</td>\n",
       "      <td>7</td>\n",
       "      <td>29.8865</td>\n",
       "      <td>627.6165</td>\n",
       "      <td>18:30</td>\n",
       "      <td>Ewallet</td>\n",
       "      <td>597.73</td>\n",
       "      <td>4.761905</td>\n",
       "      <td>29.8865</td>\n",
       "      <td>4.1</td>\n",
       "      <td>893.202882</td>\n",
       "    </tr>\n",
       "    <tr>\n",
       "      <th>2/25/2019</th>\n",
       "      <td>355-53-5943</td>\n",
       "      <td>A</td>\n",
       "      <td>Yangon</td>\n",
       "      <td>Member</td>\n",
       "      <td>Female</td>\n",
       "      <td>Electronic accessories</td>\n",
       "      <td>68.84</td>\n",
       "      <td>6</td>\n",
       "      <td>20.6520</td>\n",
       "      <td>433.6920</td>\n",
       "      <td>14:36</td>\n",
       "      <td>Ewallet</td>\n",
       "      <td>413.04</td>\n",
       "      <td>4.761905</td>\n",
       "      <td>20.6520</td>\n",
       "      <td>5.8</td>\n",
       "      <td>426.505104</td>\n",
       "    </tr>\n",
       "    <tr>\n",
       "      <th>2/24/2019</th>\n",
       "      <td>315-22-5665</td>\n",
       "      <td>C</td>\n",
       "      <td>Naypyitaw</td>\n",
       "      <td>Normal</td>\n",
       "      <td>Female</td>\n",
       "      <td>Home and lifestyle</td>\n",
       "      <td>73.56</td>\n",
       "      <td>10</td>\n",
       "      <td>36.7800</td>\n",
       "      <td>772.3800</td>\n",
       "      <td>11:38</td>\n",
       "      <td>Ewallet</td>\n",
       "      <td>735.60</td>\n",
       "      <td>4.761905</td>\n",
       "      <td>36.7800</td>\n",
       "      <td>8.0</td>\n",
       "      <td>1352.768400</td>\n",
       "    </tr>\n",
       "    <tr>\n",
       "      <th>1/10/2019</th>\n",
       "      <td>665-32-9167</td>\n",
       "      <td>A</td>\n",
       "      <td>Yangon</td>\n",
       "      <td>Member</td>\n",
       "      <td>Female</td>\n",
       "      <td>Health and beauty</td>\n",
       "      <td>36.26</td>\n",
       "      <td>2</td>\n",
       "      <td>3.6260</td>\n",
       "      <td>76.1460</td>\n",
       "      <td>17:15</td>\n",
       "      <td>Credit card</td>\n",
       "      <td>72.52</td>\n",
       "      <td>4.761905</td>\n",
       "      <td>3.6260</td>\n",
       "      <td>7.2</td>\n",
       "      <td>13.147876</td>\n",
       "    </tr>\n",
       "    <tr>\n",
       "      <th>2/20/2019</th>\n",
       "      <td>692-92-5582</td>\n",
       "      <td>B</td>\n",
       "      <td>Mandalay</td>\n",
       "      <td>Member</td>\n",
       "      <td>Female</td>\n",
       "      <td>Food and beverages</td>\n",
       "      <td>54.84</td>\n",
       "      <td>3</td>\n",
       "      <td>8.2260</td>\n",
       "      <td>172.7460</td>\n",
       "      <td>13:27</td>\n",
       "      <td>Credit card</td>\n",
       "      <td>164.52</td>\n",
       "      <td>4.761905</td>\n",
       "      <td>8.2260</td>\n",
       "      <td>5.9</td>\n",
       "      <td>67.667076</td>\n",
       "    </tr>\n",
       "  </tbody>\n",
       "</table>\n",
       "</div>"
      ],
      "text/plain": [
       "            Invoice ID Branch       City Customer type  Gender  \\\n",
       "Date                                                             \n",
       "1/5/2019   750-67-8428      A     Yangon        Member  Female   \n",
       "3/8/2019   226-31-3081      C  Naypyitaw        Normal  Female   \n",
       "3/3/2019   631-41-3108      A     Yangon        Normal    Male   \n",
       "1/27/2019  123-19-1176      A     Yangon        Member    Male   \n",
       "2/8/2019   373-73-7910      A     Yangon        Normal    Male   \n",
       "3/25/2019  699-14-3026      C  Naypyitaw        Normal    Male   \n",
       "2/25/2019  355-53-5943      A     Yangon        Member  Female   \n",
       "2/24/2019  315-22-5665      C  Naypyitaw        Normal  Female   \n",
       "1/10/2019  665-32-9167      A     Yangon        Member  Female   \n",
       "2/20/2019  692-92-5582      B   Mandalay        Member  Female   \n",
       "\n",
       "                     Product line  Unit price  Quantity   Tax 5%     Total  \\\n",
       "Date                                                                         \n",
       "1/5/2019        Health and beauty       74.69         7  26.1415  548.9715   \n",
       "3/8/2019   Electronic accessories       15.28         5   3.8200   80.2200   \n",
       "3/3/2019       Home and lifestyle       46.33         7  16.2155  340.5255   \n",
       "1/27/2019       Health and beauty       58.22         8  23.2880  489.0480   \n",
       "2/8/2019        Sports and travel       86.31         7  30.2085  634.3785   \n",
       "3/25/2019  Electronic accessories       85.39         7  29.8865  627.6165   \n",
       "2/25/2019  Electronic accessories       68.84         6  20.6520  433.6920   \n",
       "2/24/2019      Home and lifestyle       73.56        10  36.7800  772.3800   \n",
       "1/10/2019       Health and beauty       36.26         2   3.6260   76.1460   \n",
       "2/20/2019      Food and beverages       54.84         3   8.2260  172.7460   \n",
       "\n",
       "            Time      Payment    cogs  gross margin percentage  gross income  \\\n",
       "Date                                                                           \n",
       "1/5/2019   13:08      Ewallet  522.83                 4.761905       26.1415   \n",
       "3/8/2019   10:29         Cash   76.40                 4.761905        3.8200   \n",
       "3/3/2019   13:23  Credit card  324.31                 4.761905       16.2155   \n",
       "1/27/2019  20:33      Ewallet  465.76                 4.761905       23.2880   \n",
       "2/8/2019   10:37      Ewallet  604.17                 4.761905       30.2085   \n",
       "3/25/2019  18:30      Ewallet  597.73                 4.761905       29.8865   \n",
       "2/25/2019  14:36      Ewallet  413.04                 4.761905       20.6520   \n",
       "2/24/2019  11:38      Ewallet  735.60                 4.761905       36.7800   \n",
       "1/10/2019  17:15  Credit card   72.52                 4.761905        3.6260   \n",
       "2/20/2019  13:27  Credit card  164.52                 4.761905        8.2260   \n",
       "\n",
       "           Rating  gross income_doubled  \n",
       "Date                                     \n",
       "1/5/2019      9.1            683.378022  \n",
       "3/8/2019      9.6             14.592400  \n",
       "3/3/2019      7.4            262.942440  \n",
       "1/27/2019     8.4            542.330944  \n",
       "2/8/2019      5.3            912.553472  \n",
       "3/25/2019     4.1            893.202882  \n",
       "2/25/2019     5.8            426.505104  \n",
       "2/24/2019     8.0           1352.768400  \n",
       "1/10/2019     7.2             13.147876  \n",
       "2/20/2019     5.9             67.667076  "
      ]
     },
     "execution_count": 127,
     "metadata": {},
     "output_type": "execute_result"
    }
   ],
   "source": [
    "data.head(10)"
   ]
  },
  {
   "cell_type": "code",
   "execution_count": null,
   "id": "91e0db7e",
   "metadata": {},
   "outputs": [],
   "source": []
  },
  {
   "cell_type": "code",
   "execution_count": null,
   "id": "8f2e412c",
   "metadata": {},
   "outputs": [],
   "source": []
  }
 ],
 "metadata": {
  "kernelspec": {
   "display_name": "Python 3 (ipykernel)",
   "language": "python",
   "name": "python3"
  },
  "language_info": {
   "codemirror_mode": {
    "name": "ipython",
    "version": 3
   },
   "file_extension": ".py",
   "mimetype": "text/x-python",
   "name": "python",
   "nbconvert_exporter": "python",
   "pygments_lexer": "ipython3",
   "version": "3.9.13"
  }
 },
 "nbformat": 4,
 "nbformat_minor": 5
}
